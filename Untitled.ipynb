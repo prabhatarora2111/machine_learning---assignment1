{
 "cells": [
  {
   "cell_type": "code",
   "execution_count": null,
   "id": "cd295d05-8b00-411a-8ea1-5fcb34708c95",
   "metadata": {},
   "outputs": [],
   "source": [
    "#ANS1\n",
    "# 1. Artificial learning-Artificial learning is a smart application that can perform its own task without any human invention\n",
    "# eg: Alexa,Self Driving Cars,Robots\n",
    "# 2.Machine Learning-Machine Learning is a dataset of the artificial learning and its provide statstool to analize,visualize,productive model,forcasting\n",
    "# eg: recommendation system in netflix and amazon etc.\n",
    "# 3.deep learning-deep Learning is subset of machine learning that uses multiple layers to progressively extract higher-level features from the raw input\n",
    "# eg:object detection, image recognition ,chat bot etc"
   ]
  },
  {
   "cell_type": "code",
   "execution_count": null,
   "id": "e3402b75-8790-4c5a-b04f-d73019c717a8",
   "metadata": {},
   "outputs": [],
   "source": [
    "# ANS2\n",
    "# supervised learning-supervised learning is a type of machine learning which includes the output feature of the dataset.\n",
    "# it is also further divided into 2 category\n",
    "# a. clasification:which includes the category data\n",
    "# b.regresion:which includes the countinous data\n",
    "# eg:classification: no of students pass or fail depends on the hours they studying and playing.\n",
    "# regresion:the price of the house depends on the size and no. of rooms if the size is increase the price also increase"
   ]
  },
  {
   "cell_type": "code",
   "execution_count": null,
   "id": "780da8c5-9b93-4ac0-a7af-53be556eadc5",
   "metadata": {},
   "outputs": [],
   "source": [
    "# ANS3\n",
    "# unsupervised learning-unsupervised learning is also a type of machine learning which does not include the output feature of the dataset.\n",
    "# here, they having the group of similar data(cluster)\n",
    "# eg:the graph of the salary and expenditure, those people will shop the items more which having the low salary and high expenditure and \n",
    "# with high salary and high expenditure.(talking about the groups of people having)"
   ]
  },
  {
   "cell_type": "code",
   "execution_count": 3,
   "id": "8732b5c5-ccae-475f-9385-0f262feff37b",
   "metadata": {},
   "outputs": [],
   "source": [
    "# ANS4\n",
    "# Artificial Intelligence (AI) enables machines to think by understanding, learning from the data, and taking decisions based on \n",
    "# patterns hidden in the data or make inferences that would otherwise be very difficult for humans to make manually.\n",
    "\n",
    "# Machine Learning (ML) is a subset of AI; it provides us statistical tools/techniques like Supervised, Unsupervised, and \n",
    "# Reinforcement learning to explore and analyze the data.\n",
    "\n",
    "# Deep Learning (DL) is further a subset of ML, and the main idea behind it is to make machines learn by mimicking the human brain.\n",
    "\n",
    "# Data Science (DS) is basically drawing insights from structured and unstructured data either by using ML or DL or without these \n",
    "# techniques. We can even use different visualization tools, statistics, and probability to gain these insights."
   ]
  },
  {
   "cell_type": "code",
   "execution_count": 6,
   "id": "29289135-016a-43ab-92eb-2278f994cb79",
   "metadata": {},
   "outputs": [],
   "source": [
    "# ANS5\n",
    "# the main diffrence between supervised unsupervised and semi-supervised learning is supervised includes the output \n",
    "# feature of the dataset unsupervised dos not include the output feature it just show or give the the group of similar \n",
    "# data not the categorical data or continous data but supervised did wheareas semi supervised learning is the combination \n",
    "# of both supervised and unsupervised learning."
   ]
  },
  {
   "cell_type": "code",
   "execution_count": 7,
   "id": "759664b4-e640-44c5-bc39-ebc5f7d853d6",
   "metadata": {},
   "outputs": [],
   "source": [
    "# ANS6\n",
    "# Training - It is the set of data that is used to train and make the model learn the hidden features/patterns in the data.\n",
    "\n",
    "# Validation - The validation set is a set of data that is used to validate our model performance during training. This validation \n",
    "# process gives information that helps us tune the model’s hyperparameters and configurations accordingly.\n",
    "# The main idea of splitting the dataset into a validation set is to prevent our model from overfitting i.e., the model \n",
    "# becomes really good at classifying the samples in the training set but cannot generalize and make accurate classifications \n",
    "# on the data it has not seen before. \n",
    "\n",
    "# Test-The test set is a separate set of data used to test the model after completing the training.\n",
    "# its importance is it provides an unbiased final model performance metric in terms of accuracy, precision."
   ]
  },
  {
   "cell_type": "code",
   "execution_count": 8,
   "id": "3472594a-2f3f-40b7-933e-6921326e3ff9",
   "metadata": {},
   "outputs": [],
   "source": [
    "# ANS7\n",
    "# Unsupervised Anomaly Detection: This method does require any training data and instead assumes two things about \n",
    "# the data ie Only a small percentage of data is anomalous and Any anomaly is statistically different from the normal samples. \n",
    "\n",
    "# Eg:Anomalous activities can be linked to some kind of problems or rare events such as bank fraud, \n",
    "# medical problems, structural defects, malfunctioning equipment etc.\n",
    "# (A credit card company will use anomaly detection to track how customers typically use their credit cards.)\n"
   ]
  },
  {
   "cell_type": "code",
   "execution_count": 9,
   "id": "598d73ea-72d3-42d3-8432-efa830e659b7",
   "metadata": {},
   "outputs": [],
   "source": [
    "# ANS8\n",
    "# Supervised learning algorithms: Regression, Decision Tree, Random Forest, KNN, Logistic Regression, etc.\n",
    "# Unsupervised learning algorithms: Apriori algorithm, K-means clustering."
   ]
  },
  {
   "cell_type": "code",
   "execution_count": null,
   "id": "b548b74f-4ba5-49ed-8512-ab70befc74dd",
   "metadata": {},
   "outputs": [],
   "source": []
  },
  {
   "cell_type": "code",
   "execution_count": null,
   "id": "d38ae18f-a1ee-4f97-9f08-68dd4791b537",
   "metadata": {},
   "outputs": [],
   "source": []
  }
 ],
 "metadata": {
  "kernelspec": {
   "display_name": "Python 3 (ipykernel)",
   "language": "python",
   "name": "python3"
  },
  "language_info": {
   "codemirror_mode": {
    "name": "ipython",
    "version": 3
   },
   "file_extension": ".py",
   "mimetype": "text/x-python",
   "name": "python",
   "nbconvert_exporter": "python",
   "pygments_lexer": "ipython3",
   "version": "3.10.8"
  }
 },
 "nbformat": 4,
 "nbformat_minor": 5
}
